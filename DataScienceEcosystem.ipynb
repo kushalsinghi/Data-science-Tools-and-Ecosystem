{
 "cells": [
  {
   "cell_type": "markdown",
   "metadata": {},
   "source": [
    "<center>\n",
    "    <img src=\"https://cf-courses-data.s3.us.cloud-object-storage.appdomain.cloud/IBMDeveloperSkillsNetwork-DS0105EN-SkillsNetwork/labs/Module2/images/SN_web_lightmode.png\" width=\"300\" alt=\"cognitiveclass.ai logo\">\n",
    "</center>\n"
   ]
  },
  {
   "cell_type": "markdown",
   "metadata": {
    "tags": []
   },
   "source": [
    "#### Add your code below following the instructions given in the course\n"
   ]
  },
  {
   "cell_type": "markdown",
   "metadata": {},
   "source": [
    "#Data Science Tools and Ecosystem"
   ]
  },
  {
   "cell_type": "markdown",
   "metadata": {},
   "source": [
    "In this notebook, Data Science Tools and Ecosystem are summarized."
   ]
  },
  {
   "cell_type": "markdown",
   "metadata": {},
   "source": [
    "Some of the popular languages that Data Scientists use are:\n",
    "1. Python: Widely favored for its simplicity and a vast ecosystem of libraries such as Pandas, NumPy, Scikit-learn, TensorFlow, and PyTorch, which are essential for data analysis, machine learning, and deep learning.\n",
    "2. R: Known for its strong statistical analysis capabilities and a comprehensive set of packages like ggplot2, dplyr, and caret, R is particularly popular in academia and among statisticians.\n",
    "\n",
    "3. SQL: Essential for data retrieval and manipulation in relational databases, SQL (Structured Query Language) is a fundamental tool for data scientists to extract and manage data.\n",
    "\n",
    "4. Julia: Gaining popularity for its high performance in numerical and scientific computing, Julia is appreciated for tasks that require heavy computation, such as large-scale simulations and complex algorithms.1.\n"
   ]
  },
  {
   "cell_type": "markdown",
   "metadata": {},
   "source": [
    "Some of the popular libraries  that Data Scientists use are:\n",
    "1. Pandas: Used for data manipulation and analysis, providing data structures like DataFrames for handling structured data.\n",
    "2. NumPy: Supports large, multi-dimensional arrays and matrices, along with a collection of mathematical functions to operate on these arrays.\n",
    "3. Scikit-learn: A robust library for machine learning, providing simple and efficient tools for data mining and data analysis.\n",
    "4. Matplotlib: A plotting library for creating static, interactive, and animated visualizations in Python.\n",
    "5. Seaborn: Built on top of Matplotlib, it provides a high-level interface for drawing attractive statistical graphics.\n"
   ]
  },
  {
   "cell_type": "markdown",
   "metadata": {},
   "source": [
    "| Data Science Tools      |\n",
    "|-------------------------|\n",
    "| Pandas                  |\n",
    "| RStudio                 |\n",
    "| Scikit-learn            |\n",
    "| TensorFlow              |\n",
    "| PyTorch                 |\n",
    "| Matplotlib              |\n",
    "| Tableau                 |\n",
    "| Apache Spark            |\n",
    "| Hadoop                  |\n",
    "| SQL                     |\n",
    "| NoSQL Databases         |\n",
    "| Jupyter Notebook        |\n",
    "| Google Colab            |\n",
    "| Git                     |\n"
   ]
  },
  {
   "cell_type": "markdown",
   "metadata": {},
   "source": [
    "### Below are a few examples of evaluating arithmetic expressions in Python.\n",
    "\n",
    "In Python, arithmetic expressions are used to perform mathematical operations like addition, subtraction, multiplication, and division. Below are a few examples of how you can evaluate these expressions in Python:\n",
    "\n",
    "- `5 + 3` will give you `8`\n",
    "- `10 - 4` will give you `6`\n",
    "- `7 * 2` will give you `14`\n",
    "- `8 / 2` will give you `4.0`\n",
    "- `9 % 2` will give you `1` (modulus operation)\n",
    "- `2 ** 3` will give you `8` (exponentiation)\n"
   ]
  },
  {
   "cell_type": "code",
   "execution_count": 1,
   "metadata": {
    "tags": []
   },
   "outputs": [
    {
     "data": {
      "text/plain": [
       "17"
      ]
     },
     "execution_count": 1,
     "metadata": {},
     "output_type": "execute_result"
    }
   ],
   "source": [
    "# This is a simple arithmetic expression to multiply then add integers\n",
    "result = (3 * 4) + 5\n",
    "result\n"
   ]
  },
  {
   "cell_type": "code",
   "execution_count": 2,
   "metadata": {
    "tags": []
   },
   "outputs": [
    {
     "data": {
      "text/plain": [
       "3.3333333333333335"
      ]
     },
     "execution_count": 2,
     "metadata": {},
     "output_type": "execute_result"
    }
   ],
   "source": [
    "# This will convert 200 minutes to hours by dividing by 60\n",
    "hours = 200 / 60\n",
    "hours\n"
   ]
  },
  {
   "cell_type": "markdown",
   "metadata": {},
   "source": [
    "**Objectives:**\n",
    "\n",
    "- Learn how to evaluate arithmetic expressions in Python.\n",
    "- Understand how to convert minutes to hours using Python.\n",
    "- List popular languages and tools used in Data Science.\n",
    "- Create and format tables using Markdown.\n",
    "- Get familiar with basic data science tools and libraries.\n"
   ]
  },
  {
   "cell_type": "markdown",
   "metadata": {},
   "source": [
    "##Author\n",
    "\n",
    "Kushal Singhi"
   ]
  }
 ],
 "metadata": {
  "kernelspec": {
   "display_name": "Python",
   "language": "python",
   "name": "conda-env-python-py"
  },
  "language_info": {
   "codemirror_mode": {
    "name": "ipython",
    "version": 3
   },
   "file_extension": ".py",
   "mimetype": "text/x-python",
   "name": "python",
   "nbconvert_exporter": "python",
   "pygments_lexer": "ipython3",
   "version": "3.7.12"
  }
 },
 "nbformat": 4,
 "nbformat_minor": 4
}
